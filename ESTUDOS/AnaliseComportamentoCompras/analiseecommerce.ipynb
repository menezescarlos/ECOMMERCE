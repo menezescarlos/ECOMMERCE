{
 "cells": [
  {
   "cell_type": "markdown",
   "metadata": {},
   "source": [
    "## Seguimentação de Cliente Baseado em Comportamento\n",
    "\n",
    "### Descrição do conjunto de dados:\n",
    "\n",
    "#### Objetivo: Agrupar clientes em segmentos distintos com base em seus comportamentos de compra.\n",
    "\n",
    "O conjunto de dados representa dados transacionais de varejo. Ele contém informações sobre clientes, suas compras, produtos e detalhes da transação. Os dados incluem vários atributos, como ID do cliente, nome, e-mail, telefone, endereço, cidade, estado, CEP, país, idade, sexo, renda, segmento de cliente, data da última compra, total de compras, valor gasto, categoria do produto, marca do produto, tipo de produto, feedback, método de envio, método de pagamento e status do pedido."
   ]
  },
  {
   "cell_type": "code",
   "execution_count": 61,
   "metadata": {},
   "outputs": [],
   "source": [
    "import warnings\n",
    "import numpy as np\n",
    "import pandas as pd\n",
    "import matplotlib.pyplot as plt\n",
    "\n",
    "warnings.filterwarnings(\"ignore\") \n",
    "pd.set_option('display.max_columns', None)\n",
    "pd.set_option('display.max_rows', None)\n",
    "pd.options.display.float_format = '{:.2f}'.format"
   ]
  },
  {
   "cell_type": "code",
   "execution_count": 105,
   "metadata": {},
   "outputs": [
    {
     "name": "stdout",
     "output_type": "stream",
     "text": [
      "   Transaction_ID  Customer_ID                 Name                Email  \\\n",
      "0      8691788.00     37249.00  Michelle Harrington    Ebony39@gmail.com   \n",
      "1      2174773.00     69749.00          Kelsey Hill     Mark36@gmail.com   \n",
      "2      6679610.00     30192.00         Scott Jensen    Shane85@gmail.com   \n",
      "3      7232460.00     62101.00        Joseph Miller     Mary34@gmail.com   \n",
      "4      4983775.00     27901.00        Debra Coleman  Charles30@gmail.com   \n",
      "\n",
      "          Phone                      Address        City            State  \\\n",
      "0 1414786801.00            3959 Amanda Burgs    Dortmund           Berlin   \n",
      "1 6852899987.00           82072 Dawn Centers  Nottingham          England   \n",
      "2 8362160449.00            4133 Young Canyon     Geelong  New South Wales   \n",
      "3 2776751724.00  8148 Thomas Creek Suite 100    Edmonton          Ontario   \n",
      "4 9098267635.00    5813 Lori Ports Suite 269     Bristol          England   \n",
      "\n",
      "   Zipcode    Country   Age  Gender Income Customer_Segment        Date  \\\n",
      "0 77985.00    Germany 21.00    Male    Low          Regular   9/18/2023   \n",
      "1 99071.00         UK 19.00  Female    Low          Premium  12/31/2023   \n",
      "2 75929.00  Australia 48.00    Male    Low          Regular   4/26/2023   \n",
      "3 88420.00     Canada 56.00    Male   High          Premium    5/8/2023   \n",
      "4 48704.00         UK 22.00    Male    Low          Premium   1/10/2024   \n",
      "\n",
      "     Year      Month      Time  Total_Purchases  Amount  Total_Amount  \\\n",
      "0 2023.00  September  22:03:55             3.00  108.03        324.09   \n",
      "1 2023.00   December   8:42:04             2.00  403.35        806.71   \n",
      "2 2023.00      April   4:06:29             3.00  354.48       1063.43   \n",
      "3 2023.00        May  14:55:17             7.00  352.41       2466.85   \n",
      "4 2024.00    January  16:54:07             2.00  124.28        248.55   \n",
      "\n",
      "  Product_Category  Product_Brand Product_Type   Feedback Shipping_Method  \\\n",
      "0         Clothing           Nike       Shorts  Excellent        Same-Day   \n",
      "1      Electronics        Samsung       Tablet  Excellent        Standard   \n",
      "2            Books  Penguin Books   Children's    Average        Same-Day   \n",
      "3       Home Decor     Home Depot        Tools  Excellent        Standard   \n",
      "4          Grocery         Nestle    Chocolate        Bad        Standard   \n",
      "\n",
      "  Payment_Method Order_Status  Ratings           products  \n",
      "0     Debit Card      Shipped     5.00     Cycling shorts  \n",
      "1    Credit Card   Processing     4.00         Lenovo Tab  \n",
      "2    Credit Card   Processing     2.00   Sports equipment  \n",
      "3         PayPal   Processing     4.00      Utility knife  \n",
      "4           Cash      Shipped     1.00  Chocolate cookies  \n"
     ]
    }
   ],
   "source": [
    "#Importação e pré-visualização dos dados, com arquivo CSV\n",
    "base = pd.read_csv(\"C:/Users/menez/OneDrive - Faculdade Impacta Tecnologia/IMPACTA 2024/ANO LETIVO 2024/MATÉRIAS/REAL DATA - DRIVEN BUSINESS PROJECT (HANDS-ON)/ecommerce/archive/new_retail_data.csv\")\n",
    "print(base.head())"
   ]
  },
  {
   "cell_type": "code",
   "execution_count": 106,
   "metadata": {},
   "outputs": [
    {
     "data": {
      "text/plain": [
       "(302010, 30)"
      ]
     },
     "execution_count": 106,
     "metadata": {},
     "output_type": "execute_result"
    }
   ],
   "source": [
    "#Tamanho do conjunto de dados\n",
    "base.shape"
   ]
  },
  {
   "cell_type": "code",
   "execution_count": 107,
   "metadata": {},
   "outputs": [
    {
     "data": {
      "text/html": [
       "<div>\n",
       "<style scoped>\n",
       "    .dataframe tbody tr th:only-of-type {\n",
       "        vertical-align: middle;\n",
       "    }\n",
       "\n",
       "    .dataframe tbody tr th {\n",
       "        vertical-align: top;\n",
       "    }\n",
       "\n",
       "    .dataframe thead th {\n",
       "        text-align: right;\n",
       "    }\n",
       "</style>\n",
       "<table border=\"1\" class=\"dataframe\">\n",
       "  <thead>\n",
       "    <tr style=\"text-align: right;\">\n",
       "      <th></th>\n",
       "      <th>Transaction_ID</th>\n",
       "      <th>Customer_ID</th>\n",
       "      <th>Name</th>\n",
       "      <th>Email</th>\n",
       "      <th>Phone</th>\n",
       "      <th>Address</th>\n",
       "      <th>City</th>\n",
       "      <th>State</th>\n",
       "      <th>Zipcode</th>\n",
       "      <th>Country</th>\n",
       "      <th>Age</th>\n",
       "      <th>Gender</th>\n",
       "      <th>Income</th>\n",
       "      <th>Customer_Segment</th>\n",
       "      <th>Date</th>\n",
       "      <th>Year</th>\n",
       "      <th>Month</th>\n",
       "      <th>Time</th>\n",
       "      <th>Total_Purchases</th>\n",
       "      <th>Amount</th>\n",
       "      <th>Total_Amount</th>\n",
       "      <th>Product_Category</th>\n",
       "      <th>Product_Brand</th>\n",
       "      <th>Product_Type</th>\n",
       "      <th>Feedback</th>\n",
       "      <th>Shipping_Method</th>\n",
       "      <th>Payment_Method</th>\n",
       "      <th>Order_Status</th>\n",
       "      <th>Ratings</th>\n",
       "      <th>products</th>\n",
       "    </tr>\n",
       "  </thead>\n",
       "  <tbody>\n",
       "    <tr>\n",
       "      <th>0</th>\n",
       "      <td>8691788.00</td>\n",
       "      <td>37249.00</td>\n",
       "      <td>Michelle Harrington</td>\n",
       "      <td>Ebony39@gmail.com</td>\n",
       "      <td>1414786801.00</td>\n",
       "      <td>3959 Amanda Burgs</td>\n",
       "      <td>Dortmund</td>\n",
       "      <td>Berlin</td>\n",
       "      <td>77985.00</td>\n",
       "      <td>Germany</td>\n",
       "      <td>21.00</td>\n",
       "      <td>Male</td>\n",
       "      <td>Low</td>\n",
       "      <td>Regular</td>\n",
       "      <td>9/18/2023</td>\n",
       "      <td>2023.00</td>\n",
       "      <td>September</td>\n",
       "      <td>22:03:55</td>\n",
       "      <td>3.00</td>\n",
       "      <td>108.03</td>\n",
       "      <td>324.09</td>\n",
       "      <td>Clothing</td>\n",
       "      <td>Nike</td>\n",
       "      <td>Shorts</td>\n",
       "      <td>Excellent</td>\n",
       "      <td>Same-Day</td>\n",
       "      <td>Debit Card</td>\n",
       "      <td>Shipped</td>\n",
       "      <td>5.00</td>\n",
       "      <td>Cycling shorts</td>\n",
       "    </tr>\n",
       "    <tr>\n",
       "      <th>1</th>\n",
       "      <td>2174773.00</td>\n",
       "      <td>69749.00</td>\n",
       "      <td>Kelsey Hill</td>\n",
       "      <td>Mark36@gmail.com</td>\n",
       "      <td>6852899987.00</td>\n",
       "      <td>82072 Dawn Centers</td>\n",
       "      <td>Nottingham</td>\n",
       "      <td>England</td>\n",
       "      <td>99071.00</td>\n",
       "      <td>UK</td>\n",
       "      <td>19.00</td>\n",
       "      <td>Female</td>\n",
       "      <td>Low</td>\n",
       "      <td>Premium</td>\n",
       "      <td>12/31/2023</td>\n",
       "      <td>2023.00</td>\n",
       "      <td>December</td>\n",
       "      <td>8:42:04</td>\n",
       "      <td>2.00</td>\n",
       "      <td>403.35</td>\n",
       "      <td>806.71</td>\n",
       "      <td>Electronics</td>\n",
       "      <td>Samsung</td>\n",
       "      <td>Tablet</td>\n",
       "      <td>Excellent</td>\n",
       "      <td>Standard</td>\n",
       "      <td>Credit Card</td>\n",
       "      <td>Processing</td>\n",
       "      <td>4.00</td>\n",
       "      <td>Lenovo Tab</td>\n",
       "    </tr>\n",
       "    <tr>\n",
       "      <th>2</th>\n",
       "      <td>6679610.00</td>\n",
       "      <td>30192.00</td>\n",
       "      <td>Scott Jensen</td>\n",
       "      <td>Shane85@gmail.com</td>\n",
       "      <td>8362160449.00</td>\n",
       "      <td>4133 Young Canyon</td>\n",
       "      <td>Geelong</td>\n",
       "      <td>New South Wales</td>\n",
       "      <td>75929.00</td>\n",
       "      <td>Australia</td>\n",
       "      <td>48.00</td>\n",
       "      <td>Male</td>\n",
       "      <td>Low</td>\n",
       "      <td>Regular</td>\n",
       "      <td>4/26/2023</td>\n",
       "      <td>2023.00</td>\n",
       "      <td>April</td>\n",
       "      <td>4:06:29</td>\n",
       "      <td>3.00</td>\n",
       "      <td>354.48</td>\n",
       "      <td>1063.43</td>\n",
       "      <td>Books</td>\n",
       "      <td>Penguin Books</td>\n",
       "      <td>Children's</td>\n",
       "      <td>Average</td>\n",
       "      <td>Same-Day</td>\n",
       "      <td>Credit Card</td>\n",
       "      <td>Processing</td>\n",
       "      <td>2.00</td>\n",
       "      <td>Sports equipment</td>\n",
       "    </tr>\n",
       "    <tr>\n",
       "      <th>3</th>\n",
       "      <td>7232460.00</td>\n",
       "      <td>62101.00</td>\n",
       "      <td>Joseph Miller</td>\n",
       "      <td>Mary34@gmail.com</td>\n",
       "      <td>2776751724.00</td>\n",
       "      <td>8148 Thomas Creek Suite 100</td>\n",
       "      <td>Edmonton</td>\n",
       "      <td>Ontario</td>\n",
       "      <td>88420.00</td>\n",
       "      <td>Canada</td>\n",
       "      <td>56.00</td>\n",
       "      <td>Male</td>\n",
       "      <td>High</td>\n",
       "      <td>Premium</td>\n",
       "      <td>5/8/2023</td>\n",
       "      <td>2023.00</td>\n",
       "      <td>May</td>\n",
       "      <td>14:55:17</td>\n",
       "      <td>7.00</td>\n",
       "      <td>352.41</td>\n",
       "      <td>2466.85</td>\n",
       "      <td>Home Decor</td>\n",
       "      <td>Home Depot</td>\n",
       "      <td>Tools</td>\n",
       "      <td>Excellent</td>\n",
       "      <td>Standard</td>\n",
       "      <td>PayPal</td>\n",
       "      <td>Processing</td>\n",
       "      <td>4.00</td>\n",
       "      <td>Utility knife</td>\n",
       "    </tr>\n",
       "    <tr>\n",
       "      <th>4</th>\n",
       "      <td>4983775.00</td>\n",
       "      <td>27901.00</td>\n",
       "      <td>Debra Coleman</td>\n",
       "      <td>Charles30@gmail.com</td>\n",
       "      <td>9098267635.00</td>\n",
       "      <td>5813 Lori Ports Suite 269</td>\n",
       "      <td>Bristol</td>\n",
       "      <td>England</td>\n",
       "      <td>48704.00</td>\n",
       "      <td>UK</td>\n",
       "      <td>22.00</td>\n",
       "      <td>Male</td>\n",
       "      <td>Low</td>\n",
       "      <td>Premium</td>\n",
       "      <td>1/10/2024</td>\n",
       "      <td>2024.00</td>\n",
       "      <td>January</td>\n",
       "      <td>16:54:07</td>\n",
       "      <td>2.00</td>\n",
       "      <td>124.28</td>\n",
       "      <td>248.55</td>\n",
       "      <td>Grocery</td>\n",
       "      <td>Nestle</td>\n",
       "      <td>Chocolate</td>\n",
       "      <td>Bad</td>\n",
       "      <td>Standard</td>\n",
       "      <td>Cash</td>\n",
       "      <td>Shipped</td>\n",
       "      <td>1.00</td>\n",
       "      <td>Chocolate cookies</td>\n",
       "    </tr>\n",
       "  </tbody>\n",
       "</table>\n",
       "</div>"
      ],
      "text/plain": [
       "   Transaction_ID  Customer_ID                 Name                Email  \\\n",
       "0      8691788.00     37249.00  Michelle Harrington    Ebony39@gmail.com   \n",
       "1      2174773.00     69749.00          Kelsey Hill     Mark36@gmail.com   \n",
       "2      6679610.00     30192.00         Scott Jensen    Shane85@gmail.com   \n",
       "3      7232460.00     62101.00        Joseph Miller     Mary34@gmail.com   \n",
       "4      4983775.00     27901.00        Debra Coleman  Charles30@gmail.com   \n",
       "\n",
       "          Phone                      Address        City            State  \\\n",
       "0 1414786801.00            3959 Amanda Burgs    Dortmund           Berlin   \n",
       "1 6852899987.00           82072 Dawn Centers  Nottingham          England   \n",
       "2 8362160449.00            4133 Young Canyon     Geelong  New South Wales   \n",
       "3 2776751724.00  8148 Thomas Creek Suite 100    Edmonton          Ontario   \n",
       "4 9098267635.00    5813 Lori Ports Suite 269     Bristol          England   \n",
       "\n",
       "   Zipcode    Country   Age  Gender Income Customer_Segment        Date  \\\n",
       "0 77985.00    Germany 21.00    Male    Low          Regular   9/18/2023   \n",
       "1 99071.00         UK 19.00  Female    Low          Premium  12/31/2023   \n",
       "2 75929.00  Australia 48.00    Male    Low          Regular   4/26/2023   \n",
       "3 88420.00     Canada 56.00    Male   High          Premium    5/8/2023   \n",
       "4 48704.00         UK 22.00    Male    Low          Premium   1/10/2024   \n",
       "\n",
       "     Year      Month      Time  Total_Purchases  Amount  Total_Amount  \\\n",
       "0 2023.00  September  22:03:55             3.00  108.03        324.09   \n",
       "1 2023.00   December   8:42:04             2.00  403.35        806.71   \n",
       "2 2023.00      April   4:06:29             3.00  354.48       1063.43   \n",
       "3 2023.00        May  14:55:17             7.00  352.41       2466.85   \n",
       "4 2024.00    January  16:54:07             2.00  124.28        248.55   \n",
       "\n",
       "  Product_Category  Product_Brand Product_Type   Feedback Shipping_Method  \\\n",
       "0         Clothing           Nike       Shorts  Excellent        Same-Day   \n",
       "1      Electronics        Samsung       Tablet  Excellent        Standard   \n",
       "2            Books  Penguin Books   Children's    Average        Same-Day   \n",
       "3       Home Decor     Home Depot        Tools  Excellent        Standard   \n",
       "4          Grocery         Nestle    Chocolate        Bad        Standard   \n",
       "\n",
       "  Payment_Method Order_Status  Ratings           products  \n",
       "0     Debit Card      Shipped     5.00     Cycling shorts  \n",
       "1    Credit Card   Processing     4.00         Lenovo Tab  \n",
       "2    Credit Card   Processing     2.00   Sports equipment  \n",
       "3         PayPal   Processing     4.00      Utility knife  \n",
       "4           Cash      Shipped     1.00  Chocolate cookies  "
      ]
     },
     "execution_count": 107,
     "metadata": {},
     "output_type": "execute_result"
    }
   ],
   "source": [
    "#Registros Top 5\n",
    "base.head(5)"
   ]
  },
  {
   "cell_type": "code",
   "execution_count": 108,
   "metadata": {},
   "outputs": [
    {
     "data": {
      "text/plain": [
       "Transaction_ID      333\n",
       "Customer_ID         308\n",
       "Name                382\n",
       "Email               347\n",
       "Phone               362\n",
       "Address             315\n",
       "City                248\n",
       "State               281\n",
       "Zipcode             340\n",
       "Country             271\n",
       "Age                 173\n",
       "Gender              317\n",
       "Income              290\n",
       "Customer_Segment    215\n",
       "Date                359\n",
       "Year                350\n",
       "Month               273\n",
       "Time                350\n",
       "Total_Purchases     361\n",
       "Amount              357\n",
       "Total_Amount        350\n",
       "Product_Category    283\n",
       "Product_Brand       281\n",
       "Product_Type          0\n",
       "Feedback            184\n",
       "Shipping_Method     337\n",
       "Payment_Method      297\n",
       "Order_Status        235\n",
       "Ratings             184\n",
       "products              0\n",
       "dtype: int64"
      ]
     },
     "execution_count": 108,
     "metadata": {},
     "output_type": "execute_result"
    }
   ],
   "source": [
    "#Verificação de dados nulos para avaliar exclusão ou subistituição\n",
    "base.isnull().sum()"
   ]
  },
  {
   "cell_type": "code",
   "execution_count": 109,
   "metadata": {},
   "outputs": [
    {
     "name": "stdout",
     "output_type": "stream",
     "text": [
      "<class 'pandas.core.frame.DataFrame'>\n",
      "RangeIndex: 302010 entries, 0 to 302009\n",
      "Data columns (total 30 columns):\n",
      " #   Column            Non-Null Count   Dtype  \n",
      "---  ------            --------------   -----  \n",
      " 0   Transaction_ID    301677 non-null  float64\n",
      " 1   Customer_ID       301702 non-null  float64\n",
      " 2   Name              301628 non-null  object \n",
      " 3   Email             301663 non-null  object \n",
      " 4   Phone             301648 non-null  float64\n",
      " 5   Address           301695 non-null  object \n",
      " 6   City              301762 non-null  object \n",
      " 7   State             301729 non-null  object \n",
      " 8   Zipcode           301670 non-null  float64\n",
      " 9   Country           301739 non-null  object \n",
      " 10  Age               301837 non-null  float64\n",
      " 11  Gender            301693 non-null  object \n",
      " 12  Income            301720 non-null  object \n",
      " 13  Customer_Segment  301795 non-null  object \n",
      " 14  Date              301651 non-null  object \n",
      " 15  Year              301660 non-null  float64\n",
      " 16  Month             301737 non-null  object \n",
      " 17  Time              301660 non-null  object \n",
      " 18  Total_Purchases   301649 non-null  float64\n",
      " 19  Amount            301653 non-null  float64\n",
      " 20  Total_Amount      301660 non-null  float64\n",
      " 21  Product_Category  301727 non-null  object \n",
      " 22  Product_Brand     301729 non-null  object \n",
      " 23  Product_Type      302010 non-null  object \n",
      " 24  Feedback          301826 non-null  object \n",
      " 25  Shipping_Method   301673 non-null  object \n",
      " 26  Payment_Method    301713 non-null  object \n",
      " 27  Order_Status      301775 non-null  object \n",
      " 28  Ratings           301826 non-null  float64\n",
      " 29  products          302010 non-null  object \n",
      "dtypes: float64(10), object(20)\n",
      "memory usage: 69.1+ MB\n"
     ]
    }
   ],
   "source": [
    "#Identifica o tipo do produto\n",
    "base.info(verbose=True)"
   ]
  },
  {
   "cell_type": "code",
   "execution_count": 39,
   "metadata": {},
   "outputs": [
    {
     "name": "stdout",
     "output_type": "stream",
     "text": [
      "datetime64[ns]\n"
     ]
    }
   ],
   "source": [
    "# Convertendo o typo de dados da coluna Data de object para datetime\n",
    "base['Date'] = pd.to_datetime(base['Date'])\n",
    "\n",
    "#Conferindo o tipo de dado Data após a alteração\n",
    "print(base['Date'].dtype)\n",
    "\n",
    "# Excluindo os valores nulos de Data\n",
    "base = base.dropna(subset=['Date'])"
   ]
  },
  {
   "cell_type": "code",
   "execution_count": 40,
   "metadata": {},
   "outputs": [
    {
     "data": {
      "text/plain": [
       "Transaction_ID      333\n",
       "Customer_ID         308\n",
       "Name                381\n",
       "Email               347\n",
       "Phone               362\n",
       "Address             314\n",
       "City                248\n",
       "State               279\n",
       "Zipcode             339\n",
       "Country             271\n",
       "Age                 172\n",
       "Gender              317\n",
       "Income              290\n",
       "Customer_Segment    215\n",
       "Date                  0\n",
       "Year                350\n",
       "Month               272\n",
       "Time                349\n",
       "Total_Purchases     361\n",
       "Amount              356\n",
       "Total_Amount        350\n",
       "Product_Category    283\n",
       "Product_Brand       281\n",
       "Product_Type          0\n",
       "Feedback            184\n",
       "Shipping_Method     337\n",
       "Payment_Method      296\n",
       "Order_Status        234\n",
       "Ratings             184\n",
       "products              0\n",
       "dtype: int64"
      ]
     },
     "execution_count": 40,
     "metadata": {},
     "output_type": "execute_result"
    }
   ],
   "source": [
    "#Conferindo se os valores nulos da coluna Data foi excluido\n",
    "base.isnull().sum()"
   ]
  },
  {
   "cell_type": "markdown",
   "metadata": {},
   "source": [
    "### Periodo da Base de dados\n",
    "\n",
    "Podemos verificar pelo resultado o periodo em que os dados foram coletados, de 01-03-2023 até 29-02-2024, 1 ano"
   ]
  },
  {
   "cell_type": "code",
   "execution_count": 35,
   "metadata": {},
   "outputs": [
    {
     "name": "stdout",
     "output_type": "stream",
     "text": [
      "Período dos dados - De: 2023-03-01 Até: 2024-02-29\n"
     ]
    }
   ],
   "source": [
    "# Avaliar o período dos dados coletados\n",
    "inicio = pd.to_datetime(base['Date']).dt.date.min()\n",
    "fim = pd.to_datetime(base['Date']).dt.date.max()\n",
    "print('Período dos dados - De:', inicio, 'Até:',fim)"
   ]
  },
  {
   "cell_type": "code",
   "execution_count": 41,
   "metadata": {},
   "outputs": [
    {
     "name": "stdout",
     "output_type": "stream",
     "text": [
      "Transaction_ID : 294118\n",
      "Customer_ID : 86754\n",
      "Name : 159258\n",
      "Email : 52882\n",
      "Phone : 298939\n",
      "Address : 298974\n",
      "City : 131\n",
      "State : 55\n",
      "Zipcode : 93960\n",
      "Country : 6\n",
      "Age : 54\n",
      "Gender : 3\n",
      "Income : 4\n",
      "Customer_Segment : 4\n",
      "Date : 366\n",
      "Year : 3\n",
      "Month : 13\n",
      "Time : 83667\n",
      "Total_Purchases : 11\n",
      "Amount : 298942\n"
     ]
    }
   ],
   "source": [
    "# Análisamos a quantidade de valores unicos em cada coluna\n",
    "valores_unicos = []\n",
    "for i in base.columns[0:20].tolist():\n",
    "    print(i, ':', len(base[i].astype(str).value_counts()))\n",
    "    valores_unicos.append(len(base[i].astype(str).value_counts()))"
   ]
  },
  {
   "cell_type": "code",
   "execution_count": 43,
   "metadata": {},
   "outputs": [
    {
     "data": {
      "text/html": [
       "<div>\n",
       "<style scoped>\n",
       "    .dataframe tbody tr th:only-of-type {\n",
       "        vertical-align: middle;\n",
       "    }\n",
       "\n",
       "    .dataframe tbody tr th {\n",
       "        vertical-align: top;\n",
       "    }\n",
       "\n",
       "    .dataframe thead th {\n",
       "        text-align: right;\n",
       "    }\n",
       "</style>\n",
       "<table border=\"1\" class=\"dataframe\">\n",
       "  <thead>\n",
       "    <tr style=\"text-align: right;\">\n",
       "      <th></th>\n",
       "      <th>Transaction_ID</th>\n",
       "      <th>Customer_ID</th>\n",
       "      <th>Phone</th>\n",
       "      <th>Zipcode</th>\n",
       "      <th>Age</th>\n",
       "      <th>Date</th>\n",
       "      <th>Year</th>\n",
       "      <th>Total_Purchases</th>\n",
       "      <th>Amount</th>\n",
       "      <th>Total_Amount</th>\n",
       "      <th>Ratings</th>\n",
       "    </tr>\n",
       "  </thead>\n",
       "  <tbody>\n",
       "    <tr>\n",
       "      <th>count</th>\n",
       "      <td>301318.00</td>\n",
       "      <td>301343.00</td>\n",
       "      <td>301289.00</td>\n",
       "      <td>301312.00</td>\n",
       "      <td>301479.00</td>\n",
       "      <td>301651</td>\n",
       "      <td>301301.00</td>\n",
       "      <td>301290.00</td>\n",
       "      <td>301295.00</td>\n",
       "      <td>301301.00</td>\n",
       "      <td>301467.00</td>\n",
       "    </tr>\n",
       "    <tr>\n",
       "      <th>mean</th>\n",
       "      <td>5495772.14</td>\n",
       "      <td>55010.22</td>\n",
       "      <td>5501352644.31</td>\n",
       "      <td>50299.48</td>\n",
       "      <td>35.48</td>\n",
       "      <td>2023-08-30 16:17:07.497339392</td>\n",
       "      <td>2023.17</td>\n",
       "      <td>5.36</td>\n",
       "      <td>255.18</td>\n",
       "      <td>1367.77</td>\n",
       "      <td>3.16</td>\n",
       "    </tr>\n",
       "    <tr>\n",
       "      <th>min</th>\n",
       "      <td>1000007.00</td>\n",
       "      <td>10000.00</td>\n",
       "      <td>1000049414.00</td>\n",
       "      <td>501.00</td>\n",
       "      <td>18.00</td>\n",
       "      <td>2023-03-01 00:00:00</td>\n",
       "      <td>2023.00</td>\n",
       "      <td>1.00</td>\n",
       "      <td>10.00</td>\n",
       "      <td>10.00</td>\n",
       "      <td>1.00</td>\n",
       "    </tr>\n",
       "    <tr>\n",
       "      <th>25%</th>\n",
       "      <td>3247781.50</td>\n",
       "      <td>32472.50</td>\n",
       "      <td>3255177925.00</td>\n",
       "      <td>25426.00</td>\n",
       "      <td>22.00</td>\n",
       "      <td>2023-05-31 00:00:00</td>\n",
       "      <td>2023.00</td>\n",
       "      <td>3.00</td>\n",
       "      <td>132.92</td>\n",
       "      <td>438.89</td>\n",
       "      <td>2.00</td>\n",
       "    </tr>\n",
       "    <tr>\n",
       "      <th>50%</th>\n",
       "      <td>5499516.50</td>\n",
       "      <td>55016.00</td>\n",
       "      <td>5505628649.00</td>\n",
       "      <td>50605.00</td>\n",
       "      <td>32.00</td>\n",
       "      <td>2023-08-31 00:00:00</td>\n",
       "      <td>2023.00</td>\n",
       "      <td>5.00</td>\n",
       "      <td>255.49</td>\n",
       "      <td>1041.23</td>\n",
       "      <td>3.00</td>\n",
       "    </tr>\n",
       "    <tr>\n",
       "      <th>75%</th>\n",
       "      <td>7739532.25</td>\n",
       "      <td>77512.00</td>\n",
       "      <td>7749691148.00</td>\n",
       "      <td>75250.25</td>\n",
       "      <td>46.00</td>\n",
       "      <td>2023-11-30 00:00:00</td>\n",
       "      <td>2023.00</td>\n",
       "      <td>8.00</td>\n",
       "      <td>377.67</td>\n",
       "      <td>2030.17</td>\n",
       "      <td>4.00</td>\n",
       "    </tr>\n",
       "    <tr>\n",
       "      <th>max</th>\n",
       "      <td>9999995.00</td>\n",
       "      <td>99999.00</td>\n",
       "      <td>9999996122.00</td>\n",
       "      <td>99949.00</td>\n",
       "      <td>70.00</td>\n",
       "      <td>2024-02-29 00:00:00</td>\n",
       "      <td>2024.00</td>\n",
       "      <td>10.00</td>\n",
       "      <td>500.00</td>\n",
       "      <td>4999.63</td>\n",
       "      <td>5.00</td>\n",
       "    </tr>\n",
       "    <tr>\n",
       "      <th>std</th>\n",
       "      <td>2595688.89</td>\n",
       "      <td>26005.50</td>\n",
       "      <td>2595923627.04</td>\n",
       "      <td>28972.34</td>\n",
       "      <td>15.02</td>\n",
       "      <td>NaN</td>\n",
       "      <td>0.37</td>\n",
       "      <td>2.87</td>\n",
       "      <td>141.39</td>\n",
       "      <td>1128.95</td>\n",
       "      <td>1.32</td>\n",
       "    </tr>\n",
       "  </tbody>\n",
       "</table>\n",
       "</div>"
      ],
      "text/plain": [
       "       Transaction_ID  Customer_ID         Phone   Zipcode       Age  \\\n",
       "count       301318.00    301343.00     301289.00 301312.00 301479.00   \n",
       "mean       5495772.14     55010.22 5501352644.31  50299.48     35.48   \n",
       "min        1000007.00     10000.00 1000049414.00    501.00     18.00   \n",
       "25%        3247781.50     32472.50 3255177925.00  25426.00     22.00   \n",
       "50%        5499516.50     55016.00 5505628649.00  50605.00     32.00   \n",
       "75%        7739532.25     77512.00 7749691148.00  75250.25     46.00   \n",
       "max        9999995.00     99999.00 9999996122.00  99949.00     70.00   \n",
       "std        2595688.89     26005.50 2595923627.04  28972.34     15.02   \n",
       "\n",
       "                                Date      Year  Total_Purchases    Amount  \\\n",
       "count                         301651 301301.00        301290.00 301295.00   \n",
       "mean   2023-08-30 16:17:07.497339392   2023.17             5.36    255.18   \n",
       "min              2023-03-01 00:00:00   2023.00             1.00     10.00   \n",
       "25%              2023-05-31 00:00:00   2023.00             3.00    132.92   \n",
       "50%              2023-08-31 00:00:00   2023.00             5.00    255.49   \n",
       "75%              2023-11-30 00:00:00   2023.00             8.00    377.67   \n",
       "max              2024-02-29 00:00:00   2024.00            10.00    500.00   \n",
       "std                              NaN      0.37             2.87    141.39   \n",
       "\n",
       "       Total_Amount   Ratings  \n",
       "count     301301.00 301467.00  \n",
       "mean        1367.77      3.16  \n",
       "min           10.00      1.00  \n",
       "25%          438.89      2.00  \n",
       "50%         1041.23      3.00  \n",
       "75%         2030.17      4.00  \n",
       "max         4999.63      5.00  \n",
       "std         1128.95      1.32  "
      ]
     },
     "execution_count": 43,
     "metadata": {},
     "output_type": "execute_result"
    }
   ],
   "source": [
    "# Visualizando algumas medidas estatisticas\n",
    "base.describe()"
   ]
  },
  {
   "cell_type": "code",
   "execution_count": 44,
   "metadata": {},
   "outputs": [
    {
     "name": "stdout",
     "output_type": "stream",
     "text": [
      "Maior Valor Transação: 499.997911\n",
      "Menor Valor Transação: 10.00021923\n"
     ]
    }
   ],
   "source": [
    "#Produto Mais caro e mais barato\n",
    "print('Maior Valor Transação:', base['Amount'].max())\n",
    "print('Menor Valor Transação:', base['Amount'].min())"
   ]
  },
  {
   "cell_type": "code",
   "execution_count": 46,
   "metadata": {},
   "outputs": [
    {
     "name": "stdout",
     "output_type": "stream",
     "text": [
      "Maior Valor Transação: 4999.625796\n",
      "Menor Valor Transação: 10.00374959\n"
     ]
    }
   ],
   "source": [
    "#Maior venda e menor venda\n",
    "print('Maior Valor Transação:', base['Total_Amount'].max())\n",
    "print('Menor Valor Transação:', base['Total_Amount'].min())"
   ]
  },
  {
   "cell_type": "code",
   "execution_count": 47,
   "metadata": {},
   "outputs": [
    {
     "data": {
      "text/plain": [
       "Gender\n",
       "Female    113953\n",
       "Male      187381\n",
       "dtype: int64"
      ]
     },
     "execution_count": 47,
     "metadata": {},
     "output_type": "execute_result"
    }
   ],
   "source": [
    "#Analisando varáveis Genero\n",
    "base.groupby(['Gender']).size()"
   ]
  },
  {
   "cell_type": "code",
   "execution_count": 96,
   "metadata": {},
   "outputs": [
    {
     "data": {
      "image/png": "[encoded data removed]",
      "text/plain": [
       "<Figure size 640x480 with 1 Axes>"
      ]
     },
     "metadata": {},
     "output_type": "display_data"
    }
   ],
   "source": [
    "#Analisando varáveis Genero\n",
    "base.Gender.value_counts().plot(kind='bar', title='Genero',color = ['#1F77B4', '#FF7F0E']);"
   ]
  },
  {
   "cell_type": "code",
   "execution_count": 48,
   "metadata": {},
   "outputs": [
    {
     "data": {
      "text/plain": [
       "Income\n",
       "High       75139\n",
       "Low        96145\n",
       "Medium    130077\n",
       "dtype: int64"
      ]
     },
     "execution_count": 48,
     "metadata": {},
     "output_type": "execute_result"
    }
   ],
   "source": [
    "#Analisando varáveis Renda\n",
    "base.groupby(['Income']).size()"
   ]
  },
  {
   "cell_type": "code",
   "execution_count": 94,
   "metadata": {},
   "outputs": [
    {
     "data": {
      "image/png": "[encoded data removed]",
      "text/plain": [
       "<Figure size 1000x600 with 1 Axes>"
      ]
     },
     "metadata": {},
     "output_type": "display_data"
    }
   ],
   "source": [
    "#Analisando varáveis Renda\n",
    "color = ['#1F77B4', '#FF7F0E', '#FF9999']\n",
    "explode = (0, 0, 0.1)\n",
    "\n",
    "plt.figure(figsize=(10, 6))\n",
    "base.groupby('Income')['Total_Amount'].sum().plot(kind='pie', autopct='%0.2f%%', colors=color, explode=explode)\n",
    "plt.title('Distribuição do VALOR TOTAL por RENDA' , fontweight='bold')\n",
    "plt.ylabel('')\n",
    "plt.xlabel('')\n",
    "plt.show()"
   ]
  },
  {
   "cell_type": "code",
   "execution_count": 49,
   "metadata": {},
   "outputs": [
    {
     "data": {
      "text/plain": [
       "Country\n",
       "Australia    45271\n",
       "Canada       45240\n",
       "Germany      52770\n",
       "UK           62996\n",
       "USA          95103\n",
       "dtype: int64"
      ]
     },
     "execution_count": 49,
     "metadata": {},
     "output_type": "execute_result"
    }
   ],
   "source": [
    "#Analisando varáveis País\n",
    "base.groupby(['Country']).size()"
   ]
  },
  {
   "cell_type": "code",
   "execution_count": 69,
   "metadata": {},
   "outputs": [
    {
     "data": {
      "image/png": "[encoded data removed]",
      "text/plain": [
       "<Figure size 500x300 with 1 Axes>"
      ]
     },
     "metadata": {},
     "output_type": "display_data"
    }
   ],
   "source": [
    "#Analisando varáveis País\n",
    "plt.figure(figsize=(5, 3))\n",
    "base['Country'].value_counts().sort_values(ascending=False).plot(kind='bar')\n",
    "plt.title('Distribuição de Clientes por País', fontweight='bold')\n",
    "plt.xlabel('País')\n",
    "plt.ylabel('Frequencia')\n",
    "plt.xticks(rotation=45)\n",
    "plt.show()"
   ]
  },
  {
   "cell_type": "code",
   "execution_count": 55,
   "metadata": {},
   "outputs": [
    {
     "data": {
      "text/plain": [
       "Customer_Segment\n",
       "New         91070\n",
       "Premium     64317\n",
       "Regular    146049\n",
       "dtype: int64"
      ]
     },
     "execution_count": 55,
     "metadata": {},
     "output_type": "execute_result"
    }
   ],
   "source": [
    "#Analisando varáveis Segmineto de Clinete\n",
    "base.groupby(['Customer_Segment']).size()"
   ]
  },
  {
   "cell_type": "code",
   "execution_count": 95,
   "metadata": {},
   "outputs": [
    {
     "data": {
      "image/png": "[encoded data removed]",
      "text/plain": [
       "<Figure size 1000x600 with 1 Axes>"
      ]
     },
     "metadata": {},
     "output_type": "display_data"
    }
   ],
   "source": [
    "#Analisando varáveis Segmineto de Clinete\n",
    "color = ['#1F77B4', '#FF7F0E', '#FF9999']\n",
    "explode = (0, 0, 0.1)\n",
    "\n",
    "plt.figure(figsize=(10, 6))\n",
    "base.groupby('Customer_Segment')['Total_Amount'].sum().plot(kind='pie', autopct='%0.2f%%', colors=color, explode=explode)\n",
    "plt.title('Distribuição do Seguimento de Clinete' , fontweight='bold')\n",
    "plt.ylabel('')\n",
    "plt.xlabel('')\n",
    "plt.show()"
   ]
  },
  {
   "cell_type": "code",
   "execution_count": 56,
   "metadata": {},
   "outputs": [
    {
     "data": {
      "text/plain": [
       "Year\n",
       "2023.00    251550\n",
       "2024.00     49751\n",
       "dtype: int64"
      ]
     },
     "execution_count": 56,
     "metadata": {},
     "output_type": "execute_result"
    }
   ],
   "source": [
    "#Analisando varáveis Ano\n",
    "base.groupby(['Year']).size()"
   ]
  },
  {
   "cell_type": "code",
   "execution_count": 72,
   "metadata": {},
   "outputs": [
    {
     "data": {
      "image/png": "[encoded data removed]",
      "text/plain": [
       "<Figure size 640x480 with 1 Axes>"
      ]
     },
     "metadata": {},
     "output_type": "display_data"
    }
   ],
   "source": [
    "#Analisando varáveis Ano\n",
    "base.Year.value_counts().plot(kind='bar', title='Ano',color = ['#1F77B4', '#FF7F0E']);"
   ]
  },
  {
   "cell_type": "code",
   "execution_count": 53,
   "metadata": {},
   "outputs": [
    {
     "data": {
      "text/plain": [
       "Month\n",
       "April        41243\n",
       "August       32974\n",
       "December     18923\n",
       "February     18234\n",
       "January      37243\n",
       "July         30853\n",
       "June         18362\n",
       "March        19119\n",
       "May          28298\n",
       "November     18399\n",
       "October      19101\n",
       "September    18630\n",
       "dtype: int64"
      ]
     },
     "execution_count": 53,
     "metadata": {},
     "output_type": "execute_result"
    }
   ],
   "source": [
    "#Analisando varáveis Mês\n",
    "base.groupby(['Month']).size()"
   ]
  },
  {
   "cell_type": "code",
   "execution_count": 75,
   "metadata": {},
   "outputs": [
    {
     "data": {
      "image/png": "[encoded data removed]",
      "text/plain": [
       "<Figure size 500x300 with 1 Axes>"
      ]
     },
     "metadata": {},
     "output_type": "display_data"
    }
   ],
   "source": [
    "# Definindo a ordem dos meses\n",
    "month_order = ['March', 'April', 'May', 'June', 'July', 'August', 'September', 'October', 'November', 'December', 'January', 'February', ]\n",
    "\n",
    "# Convertendo a coluna 'Month' para tipo categórico com a ordem especificada\n",
    "base['Month'] = pd.Categorical(base['Month'], categories=month_order, ordered=True)\n",
    "\n",
    "# Contando os valores e ordenando-os pela ordem dos meses\n",
    "month_counts = base['Month'].value_counts().sort_index()\n",
    "\n",
    "# Plotando o gráfico\n",
    "plt.figure(figsize=(5, 3))\n",
    "month_counts.plot(kind='bar')\n",
    "plt.title('Distribuição de Compras por Mês', fontweight='bold')\n",
    "plt.xlabel('Mês')\n",
    "plt.ylabel('Frequência')\n",
    "plt.xticks(rotation=45)\n",
    "plt.show()\n"
   ]
  },
  {
   "cell_type": "code",
   "execution_count": 57,
   "metadata": {},
   "outputs": [
    {
     "data": {
      "text/plain": [
       "Total_Purchases\n",
       "1.00     31833\n",
       "2.00     31876\n",
       "3.00     31833\n",
       "4.00     31535\n",
       "5.00     31881\n",
       "6.00     28507\n",
       "7.00     28412\n",
       "8.00     28673\n",
       "9.00     28423\n",
       "10.00    28317\n",
       "dtype: int64"
      ]
     },
     "execution_count": 57,
     "metadata": {},
     "output_type": "execute_result"
    }
   ],
   "source": [
    "#Analisando varáveis Total de Produtos por Transação\n",
    "base.groupby(['Total_Purchases']).size()"
   ]
  },
  {
   "cell_type": "code",
   "execution_count": 92,
   "metadata": {},
   "outputs": [
    {
     "data": {
      "image/png": "[encoded data removed]",
      "text/plain": [
       "<Figure size 500x300 with 1 Axes>"
      ]
     },
     "metadata": {},
     "output_type": "display_data"
    }
   ],
   "source": [
    "# Definindo a ordem dos Total_Purchases\n",
    "quat_prod = [1.0, 2.0, 3.0, 4.0, 5.0, 6.0, 7.0, 8.0, 9.0, 10.0]\n",
    "\n",
    "# Convertendo a coluna 'Total_Purchases' para tipo categórico com a ordem especificada\n",
    "base['Total_Purchases'] = pd.Categorical(base['Total_Purchases'], categories=quat_prod, ordered=True)\n",
    "\n",
    "# Contando os valores e ordenando-os pela ordem de quantidade de produto\n",
    "Total_Purchases = base['Total_Purchases'].value_counts().sort_index()\n",
    "\n",
    "# Plotando o gráfico\n",
    "plt.figure(figsize=(5, 3))\n",
    "month_counts.plot(kind='bar')\n",
    "plt.title('Total de Produtos por Transação', fontweight='bold')\n",
    "plt.xlabel('Quantidade de Produtos')\n",
    "plt.ylabel('Frequência')\n",
    "plt.xticks(rotation=45)\n",
    "plt.show()"
   ]
  }
 ],
 "metadata": {
  "kernelspec": {
   "display_name": "Python 3",
   "language": "python",
   "name": "python3"
  },
  "language_info": {
   "codemirror_mode": {
    "name": "ipython",
    "version": 3
   },
   "file_extension": ".py",
   "mimetype": "text/x-python",
   "name": "python",
   "nbconvert_exporter": "python",
   "pygments_lexer": "ipython3",
   "version": "3.12.3"
  }
 },
 "nbformat": 4,
 "nbformat_minor": 2
}
